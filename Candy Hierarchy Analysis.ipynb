{
 "cells": [
  {
   "cell_type": "markdown",
   "id": "5ddc56b1",
   "metadata": {},
   "source": [
    "## About the dataset\n",
    "\n",
    "This is the official survey form for the 2017 Candy Hierarchy. All data collected is anonymous and will be shared with the public as a raw spreadsheet (xml) file. This data is not intended for research purposes, but rather for the writing of a satirical/humour creative non­fiction science piece to be published at BoingBoing."
   ]
  },
  {
   "cell_type": "markdown",
   "id": "a3f404a0",
   "metadata": {},
   "source": [
    "## About the dataset\n",
    "\n",
    "    General Questions related to the existence of\n",
    "    missing values?\n",
    "    wrong datatypes for columns?\n",
    "    complete duplicates in the data?\n",
    "    outliers in each column?\n",
    "    changed the column names?\n",
    "    wrong range of values?\n",
    "    columns dropped it?\n",
    " \n",
    "\n",
    "    Questions raised during analysis\n",
    "    Most people going out or not?\n",
    "    What is most common gender?\n",
    "    What is mean of people age did the survey?\n",
    "    What is most nationality of people did the survey?\n",
    "    What is most dress color people prefer that?\n",
    "    What is day most people prefer that?\n",
    "    What is most website checked out?\n",
    "    What is the most loved candy?\n",
    "    What is the most hated candy?"
   ]
  },
  {
   "cell_type": "code",
   "execution_count": 1,
   "id": "88b05db2",
   "metadata": {},
   "outputs": [
    {
     "name": "stderr",
     "output_type": "stream",
     "text": [
      "C:\\Users\\Admin\\anaconda3\\lib\\site-packages\\fuzzywuzzy\\fuzz.py:11: UserWarning: Using slow pure-python SequenceMatcher. Install python-Levenshtein to remove this warning\n",
      "  warnings.warn('Using slow pure-python SequenceMatcher. Install python-Levenshtein to remove this warning')\n"
     ]
    }
   ],
   "source": [
    "# import libraries\n",
    "import pandas as pd\n",
    "import numpy as np\n",
    "import matplotlib.pylab as plt\n",
    "import seaborn as sns\n",
    "from fuzzywuzzy import process,fuzz\n",
    "\n",
    "# set style of visualization\n",
    "sns.set_style(\"whitegrid\")\n",
    "sns.set_palette(\"RdBu\")\n",
    "\n",
    "#Remove Warning\n",
    "import warnings\n",
    "warnings.filterwarnings('ignore', category = UserWarning, module ='openpyxl')"
   ]
  },
  {
   "cell_type": "code",
   "execution_count": 2,
   "id": "3cb531a5",
   "metadata": {},
   "outputs": [],
   "source": [
    "# read dataset\n",
    "\n",
    "candyData = pd.read_excel(\"candyhierarchy2017.xlsx\")"
   ]
  },
  {
   "cell_type": "code",
   "execution_count": 3,
   "id": "42d347af",
   "metadata": {},
   "outputs": [
    {
     "data": {
      "text/html": [
       "<div>\n",
       "<style scoped>\n",
       "    .dataframe tbody tr th:only-of-type {\n",
       "        vertical-align: middle;\n",
       "    }\n",
       "\n",
       "    .dataframe tbody tr th {\n",
       "        vertical-align: top;\n",
       "    }\n",
       "\n",
       "    .dataframe thead th {\n",
       "        text-align: right;\n",
       "    }\n",
       "</style>\n",
       "<table border=\"1\" class=\"dataframe\">\n",
       "  <thead>\n",
       "    <tr style=\"text-align: right;\">\n",
       "      <th></th>\n",
       "      <th>Internal ID</th>\n",
       "      <th>Q1: GOING OUT?</th>\n",
       "      <th>Q2: GENDER</th>\n",
       "      <th>Q3: AGE</th>\n",
       "      <th>Q4: COUNTRY</th>\n",
       "      <th>Q5: STATE, PROVINCE, COUNTY, ETC</th>\n",
       "      <th>Q6 | 100 Grand Bar</th>\n",
       "      <th>Q6 | Anonymous brown globs that come in black and orange wrappers\\t(a.k.a. Mary Janes)</th>\n",
       "      <th>Q6 | Any full-sized candy bar</th>\n",
       "      <th>Q6 | Black Jacks</th>\n",
       "      <th>...</th>\n",
       "      <th>Q8: DESPAIR OTHER</th>\n",
       "      <th>Q9: OTHER COMMENTS</th>\n",
       "      <th>Q10: DRESS</th>\n",
       "      <th>Unnamed: 113</th>\n",
       "      <th>Q11: DAY</th>\n",
       "      <th>Q12: MEDIA [Daily Dish]</th>\n",
       "      <th>Q12: MEDIA [Science]</th>\n",
       "      <th>Q12: MEDIA [ESPN]</th>\n",
       "      <th>Q12: MEDIA [Yahoo]</th>\n",
       "      <th>Click Coordinates (x, y)</th>\n",
       "    </tr>\n",
       "  </thead>\n",
       "  <tbody>\n",
       "    <tr>\n",
       "      <th>81</th>\n",
       "      <td>90273016</td>\n",
       "      <td>No</td>\n",
       "      <td>Male</td>\n",
       "      <td>38</td>\n",
       "      <td>USA</td>\n",
       "      <td>DC</td>\n",
       "      <td>JOY</td>\n",
       "      <td>DESPAIR</td>\n",
       "      <td>JOY</td>\n",
       "      <td>DESPAIR</td>\n",
       "      <td>...</td>\n",
       "      <td>NaN</td>\n",
       "      <td>NaN</td>\n",
       "      <td>White and gold</td>\n",
       "      <td>NaN</td>\n",
       "      <td>Sunday</td>\n",
       "      <td>NaN</td>\n",
       "      <td>1.0</td>\n",
       "      <td>NaN</td>\n",
       "      <td>NaN</td>\n",
       "      <td>(88, 41)</td>\n",
       "    </tr>\n",
       "    <tr>\n",
       "      <th>723</th>\n",
       "      <td>90275763</td>\n",
       "      <td>No</td>\n",
       "      <td>I'd rather not say</td>\n",
       "      <td>34</td>\n",
       "      <td>Pittsburgh</td>\n",
       "      <td>Pittsburgh pa</td>\n",
       "      <td>JOY</td>\n",
       "      <td>JOY</td>\n",
       "      <td>MEH</td>\n",
       "      <td>JOY</td>\n",
       "      <td>...</td>\n",
       "      <td>Stupid selfish people</td>\n",
       "      <td>Japanese candy</td>\n",
       "      <td>Blue and black</td>\n",
       "      <td>NaN</td>\n",
       "      <td>Friday</td>\n",
       "      <td>NaN</td>\n",
       "      <td>NaN</td>\n",
       "      <td>NaN</td>\n",
       "      <td>NaN</td>\n",
       "      <td>NaN</td>\n",
       "    </tr>\n",
       "    <tr>\n",
       "      <th>1855</th>\n",
       "      <td>90282534</td>\n",
       "      <td>No</td>\n",
       "      <td>Male</td>\n",
       "      <td>42</td>\n",
       "      <td>USA</td>\n",
       "      <td>Maryland</td>\n",
       "      <td>MEH</td>\n",
       "      <td>DESPAIR</td>\n",
       "      <td>JOY</td>\n",
       "      <td>NaN</td>\n",
       "      <td>...</td>\n",
       "      <td>NaN</td>\n",
       "      <td>NaN</td>\n",
       "      <td>White and gold</td>\n",
       "      <td>NaN</td>\n",
       "      <td>Friday</td>\n",
       "      <td>NaN</td>\n",
       "      <td>1.0</td>\n",
       "      <td>NaN</td>\n",
       "      <td>NaN</td>\n",
       "      <td>(74, 33)</td>\n",
       "    </tr>\n",
       "    <tr>\n",
       "      <th>1631</th>\n",
       "      <td>90281091</td>\n",
       "      <td>Yes</td>\n",
       "      <td>Female</td>\n",
       "      <td>22</td>\n",
       "      <td>USA</td>\n",
       "      <td>TX</td>\n",
       "      <td>MEH</td>\n",
       "      <td>MEH</td>\n",
       "      <td>JOY</td>\n",
       "      <td>NaN</td>\n",
       "      <td>...</td>\n",
       "      <td>NaN</td>\n",
       "      <td>NaN</td>\n",
       "      <td>White and gold</td>\n",
       "      <td>NaN</td>\n",
       "      <td>Sunday</td>\n",
       "      <td>NaN</td>\n",
       "      <td>NaN</td>\n",
       "      <td>1.0</td>\n",
       "      <td>NaN</td>\n",
       "      <td>(11, 81)</td>\n",
       "    </tr>\n",
       "  </tbody>\n",
       "</table>\n",
       "<p>4 rows × 120 columns</p>\n",
       "</div>"
      ],
      "text/plain": [
       "      Internal ID Q1: GOING OUT?          Q2: GENDER Q3: AGE Q4: COUNTRY  \\\n",
       "81       90273016             No                Male      38         USA   \n",
       "723      90275763             No  I'd rather not say      34  Pittsburgh   \n",
       "1855     90282534             No                Male      42         USA   \n",
       "1631     90281091            Yes              Female      22         USA   \n",
       "\n",
       "     Q5: STATE, PROVINCE, COUNTY, ETC Q6 | 100 Grand Bar  \\\n",
       "81                                 DC                JOY   \n",
       "723                     Pittsburgh pa                JOY   \n",
       "1855                         Maryland                MEH   \n",
       "1631                               TX                MEH   \n",
       "\n",
       "     Q6 | Anonymous brown globs that come in black and orange wrappers\\t(a.k.a. Mary Janes)  \\\n",
       "81                                              DESPAIR                                       \n",
       "723                                                 JOY                                       \n",
       "1855                                            DESPAIR                                       \n",
       "1631                                                MEH                                       \n",
       "\n",
       "     Q6 | Any full-sized candy bar Q6 | Black Jacks  ...  \\\n",
       "81                             JOY          DESPAIR  ...   \n",
       "723                            MEH              JOY  ...   \n",
       "1855                           JOY              NaN  ...   \n",
       "1631                           JOY              NaN  ...   \n",
       "\n",
       "          Q8: DESPAIR OTHER Q9: OTHER COMMENTS      Q10: DRESS Unnamed: 113  \\\n",
       "81                      NaN                NaN  White and gold          NaN   \n",
       "723   Stupid selfish people     Japanese candy  Blue and black          NaN   \n",
       "1855                    NaN                NaN  White and gold          NaN   \n",
       "1631                    NaN                NaN  White and gold          NaN   \n",
       "\n",
       "     Q11: DAY Q12: MEDIA [Daily Dish] Q12: MEDIA [Science] Q12: MEDIA [ESPN]  \\\n",
       "81     Sunday                     NaN                  1.0               NaN   \n",
       "723    Friday                     NaN                  NaN               NaN   \n",
       "1855   Friday                     NaN                  1.0               NaN   \n",
       "1631   Sunday                     NaN                  NaN               1.0   \n",
       "\n",
       "     Q12: MEDIA [Yahoo] Click Coordinates (x, y)  \n",
       "81                  NaN                 (88, 41)  \n",
       "723                 NaN                      NaN  \n",
       "1855                NaN                 (74, 33)  \n",
       "1631                NaN                 (11, 81)  \n",
       "\n",
       "[4 rows x 120 columns]"
      ]
     },
     "execution_count": 3,
     "metadata": {},
     "output_type": "execute_result"
    }
   ],
   "source": [
    "# see random 4 rows \n",
    "\n",
    "candyData.sample(4)"
   ]
  },
  {
   "cell_type": "code",
   "execution_count": 4,
   "id": "91d7d03f",
   "metadata": {},
   "outputs": [
    {
     "data": {
      "text/plain": [
       "(2460, 120)"
      ]
     },
     "execution_count": 4,
     "metadata": {},
     "output_type": "execute_result"
    }
   ],
   "source": [
    "# see dimensions \n",
    "\n",
    "candyData.shape"
   ]
  },
  {
   "cell_type": "markdown",
   "id": "316d55f0",
   "metadata": {},
   "source": [
    "**Interpretation:** The data has 2460 observations and 120 variables."
   ]
  },
  {
   "cell_type": "code",
   "execution_count": 5,
   "id": "7a24a87b",
   "metadata": {},
   "outputs": [
    {
     "data": {
      "text/plain": [
       "Internal ID                    0\n",
       "Q1: GOING OUT?               110\n",
       "Q2: GENDER                    41\n",
       "Q3: AGE                       84\n",
       "Q4: COUNTRY                   64\n",
       "                            ... \n",
       "Q12: MEDIA [Daily Dish]     2375\n",
       "Q12: MEDIA [Science]        1098\n",
       "Q12: MEDIA [ESPN]           2361\n",
       "Q12: MEDIA [Yahoo]          2393\n",
       "Click Coordinates (x, y)     855\n",
       "Length: 120, dtype: int64"
      ]
     },
     "execution_count": 5,
     "metadata": {},
     "output_type": "execute_result"
    }
   ],
   "source": [
    "# Checking for Null Values\n",
    "\n",
    "candyData.isna().sum() "
   ]
  },
  {
   "cell_type": "code",
   "execution_count": 6,
   "id": "88e810ed",
   "metadata": {},
   "outputs": [
    {
     "data": {
      "text/plain": [
       "False"
      ]
     },
     "execution_count": 6,
     "metadata": {},
     "output_type": "execute_result"
    }
   ],
   "source": [
    "# check if duplicated\n",
    "\n",
    "candyData.duplicated().any()"
   ]
  },
  {
   "cell_type": "code",
   "execution_count": 7,
   "id": "d83e8c27",
   "metadata": {},
   "outputs": [
    {
     "data": {
      "text/html": [
       "<div>\n",
       "<style scoped>\n",
       "    .dataframe tbody tr th:only-of-type {\n",
       "        vertical-align: middle;\n",
       "    }\n",
       "\n",
       "    .dataframe tbody tr th {\n",
       "        vertical-align: top;\n",
       "    }\n",
       "\n",
       "    .dataframe thead th {\n",
       "        text-align: right;\n",
       "    }\n",
       "</style>\n",
       "<table border=\"1\" class=\"dataframe\">\n",
       "  <thead>\n",
       "    <tr style=\"text-align: right;\">\n",
       "      <th></th>\n",
       "      <th>Internal ID</th>\n",
       "      <th>Q12: MEDIA [Daily Dish]</th>\n",
       "      <th>Q12: MEDIA [Science]</th>\n",
       "      <th>Q12: MEDIA [ESPN]</th>\n",
       "      <th>Q12: MEDIA [Yahoo]</th>\n",
       "    </tr>\n",
       "  </thead>\n",
       "  <tbody>\n",
       "    <tr>\n",
       "      <th>count</th>\n",
       "      <td>2.460000e+03</td>\n",
       "      <td>85.0</td>\n",
       "      <td>1362.0</td>\n",
       "      <td>99.0</td>\n",
       "      <td>67.0</td>\n",
       "    </tr>\n",
       "    <tr>\n",
       "      <th>mean</th>\n",
       "      <td>9.028016e+07</td>\n",
       "      <td>1.0</td>\n",
       "      <td>1.0</td>\n",
       "      <td>1.0</td>\n",
       "      <td>1.0</td>\n",
       "    </tr>\n",
       "    <tr>\n",
       "      <th>std</th>\n",
       "      <td>7.435532e+03</td>\n",
       "      <td>0.0</td>\n",
       "      <td>0.0</td>\n",
       "      <td>0.0</td>\n",
       "      <td>0.0</td>\n",
       "    </tr>\n",
       "    <tr>\n",
       "      <th>min</th>\n",
       "      <td>9.025877e+07</td>\n",
       "      <td>1.0</td>\n",
       "      <td>1.0</td>\n",
       "      <td>1.0</td>\n",
       "      <td>1.0</td>\n",
       "    </tr>\n",
       "    <tr>\n",
       "      <th>25%</th>\n",
       "      <td>9.027520e+07</td>\n",
       "      <td>1.0</td>\n",
       "      <td>1.0</td>\n",
       "      <td>1.0</td>\n",
       "      <td>1.0</td>\n",
       "    </tr>\n",
       "    <tr>\n",
       "      <th>50%</th>\n",
       "      <td>9.027780e+07</td>\n",
       "      <td>1.0</td>\n",
       "      <td>1.0</td>\n",
       "      <td>1.0</td>\n",
       "      <td>1.0</td>\n",
       "    </tr>\n",
       "    <tr>\n",
       "      <th>75%</th>\n",
       "      <td>9.028242e+07</td>\n",
       "      <td>1.0</td>\n",
       "      <td>1.0</td>\n",
       "      <td>1.0</td>\n",
       "      <td>1.0</td>\n",
       "    </tr>\n",
       "    <tr>\n",
       "      <th>max</th>\n",
       "      <td>9.031480e+07</td>\n",
       "      <td>1.0</td>\n",
       "      <td>1.0</td>\n",
       "      <td>1.0</td>\n",
       "      <td>1.0</td>\n",
       "    </tr>\n",
       "  </tbody>\n",
       "</table>\n",
       "</div>"
      ],
      "text/plain": [
       "        Internal ID  Q12: MEDIA [Daily Dish]  Q12: MEDIA [Science]  \\\n",
       "count  2.460000e+03                     85.0                1362.0   \n",
       "mean   9.028016e+07                      1.0                   1.0   \n",
       "std    7.435532e+03                      0.0                   0.0   \n",
       "min    9.025877e+07                      1.0                   1.0   \n",
       "25%    9.027520e+07                      1.0                   1.0   \n",
       "50%    9.027780e+07                      1.0                   1.0   \n",
       "75%    9.028242e+07                      1.0                   1.0   \n",
       "max    9.031480e+07                      1.0                   1.0   \n",
       "\n",
       "       Q12: MEDIA [ESPN]  Q12: MEDIA [Yahoo]  \n",
       "count               99.0                67.0  \n",
       "mean                 1.0                 1.0  \n",
       "std                  0.0                 0.0  \n",
       "min                  1.0                 1.0  \n",
       "25%                  1.0                 1.0  \n",
       "50%                  1.0                 1.0  \n",
       "75%                  1.0                 1.0  \n",
       "max                  1.0                 1.0  "
      ]
     },
     "execution_count": 7,
     "metadata": {},
     "output_type": "execute_result"
    }
   ],
   "source": [
    "# see quick info of numeric values\n",
    "\n",
    "candyData.describe()"
   ]
  },
  {
   "cell_type": "code",
   "execution_count": 8,
   "id": "274d3ec5",
   "metadata": {},
   "outputs": [
    {
     "data": {
      "text/html": [
       "<div>\n",
       "<style scoped>\n",
       "    .dataframe tbody tr th:only-of-type {\n",
       "        vertical-align: middle;\n",
       "    }\n",
       "\n",
       "    .dataframe tbody tr th {\n",
       "        vertical-align: top;\n",
       "    }\n",
       "\n",
       "    .dataframe thead th {\n",
       "        text-align: right;\n",
       "    }\n",
       "</style>\n",
       "<table border=\"1\" class=\"dataframe\">\n",
       "  <thead>\n",
       "    <tr style=\"text-align: right;\">\n",
       "      <th></th>\n",
       "      <th>Q1: GOING OUT?</th>\n",
       "      <th>Q2: GENDER</th>\n",
       "      <th>Q3: AGE</th>\n",
       "      <th>Q4: COUNTRY</th>\n",
       "      <th>Q5: STATE, PROVINCE, COUNTY, ETC</th>\n",
       "      <th>Q6 | 100 Grand Bar</th>\n",
       "      <th>Q6 | Anonymous brown globs that come in black and orange wrappers\\t(a.k.a. Mary Janes)</th>\n",
       "      <th>Q6 | Any full-sized candy bar</th>\n",
       "      <th>Q6 | Black Jacks</th>\n",
       "      <th>Q6 | Bonkers (the candy)</th>\n",
       "      <th>...</th>\n",
       "      <th>Q6 | White Bread</th>\n",
       "      <th>Q6 | Whole Wheat anything</th>\n",
       "      <th>Q6 | York Peppermint Patties</th>\n",
       "      <th>Q7: JOY OTHER</th>\n",
       "      <th>Q8: DESPAIR OTHER</th>\n",
       "      <th>Q9: OTHER COMMENTS</th>\n",
       "      <th>Q10: DRESS</th>\n",
       "      <th>Unnamed: 113</th>\n",
       "      <th>Q11: DAY</th>\n",
       "      <th>Click Coordinates (x, y)</th>\n",
       "    </tr>\n",
       "  </thead>\n",
       "  <tbody>\n",
       "    <tr>\n",
       "      <th>count</th>\n",
       "      <td>2350</td>\n",
       "      <td>2419</td>\n",
       "      <td>2376</td>\n",
       "      <td>2396</td>\n",
       "      <td>2360</td>\n",
       "      <td>1713</td>\n",
       "      <td>1726</td>\n",
       "      <td>1788</td>\n",
       "      <td>1502</td>\n",
       "      <td>1468</td>\n",
       "      <td>...</td>\n",
       "      <td>1703</td>\n",
       "      <td>1713</td>\n",
       "      <td>1755</td>\n",
       "      <td>911</td>\n",
       "      <td>717</td>\n",
       "      <td>386</td>\n",
       "      <td>1716</td>\n",
       "      <td>9</td>\n",
       "      <td>1735</td>\n",
       "      <td>1605</td>\n",
       "    </tr>\n",
       "    <tr>\n",
       "      <th>unique</th>\n",
       "      <td>2</td>\n",
       "      <td>4</td>\n",
       "      <td>106</td>\n",
       "      <td>128</td>\n",
       "      <td>511</td>\n",
       "      <td>3</td>\n",
       "      <td>3</td>\n",
       "      <td>3</td>\n",
       "      <td>3</td>\n",
       "      <td>3</td>\n",
       "      <td>...</td>\n",
       "      <td>3</td>\n",
       "      <td>3</td>\n",
       "      <td>3</td>\n",
       "      <td>867</td>\n",
       "      <td>685</td>\n",
       "      <td>385</td>\n",
       "      <td>2</td>\n",
       "      <td>1</td>\n",
       "      <td>2</td>\n",
       "      <td>952</td>\n",
       "    </tr>\n",
       "    <tr>\n",
       "      <th>top</th>\n",
       "      <td>No</td>\n",
       "      <td>Male</td>\n",
       "      <td>40</td>\n",
       "      <td>USA</td>\n",
       "      <td>California</td>\n",
       "      <td>JOY</td>\n",
       "      <td>DESPAIR</td>\n",
       "      <td>JOY</td>\n",
       "      <td>DESPAIR</td>\n",
       "      <td>MEH</td>\n",
       "      <td>...</td>\n",
       "      <td>DESPAIR</td>\n",
       "      <td>DESPAIR</td>\n",
       "      <td>JOY</td>\n",
       "      <td>Almond Joy</td>\n",
       "      <td>Trump</td>\n",
       "      <td>nom nom nom!</td>\n",
       "      <td>White and gold</td>\n",
       "      <td>dress (https://survey.ubc.ca/media/assets/user...</td>\n",
       "      <td>Friday</td>\n",
       "      <td>(77, 24)</td>\n",
       "    </tr>\n",
       "    <tr>\n",
       "      <th>freq</th>\n",
       "      <td>2038</td>\n",
       "      <td>1467</td>\n",
       "      <td>92</td>\n",
       "      <td>699</td>\n",
       "      <td>132</td>\n",
       "      <td>873</td>\n",
       "      <td>1089</td>\n",
       "      <td>1559</td>\n",
       "      <td>793</td>\n",
       "      <td>857</td>\n",
       "      <td>...</td>\n",
       "      <td>1455</td>\n",
       "      <td>1289</td>\n",
       "      <td>1105</td>\n",
       "      <td>10</td>\n",
       "      <td>7</td>\n",
       "      <td>2</td>\n",
       "      <td>1081</td>\n",
       "      <td>9</td>\n",
       "      <td>1091</td>\n",
       "      <td>9</td>\n",
       "    </tr>\n",
       "  </tbody>\n",
       "</table>\n",
       "<p>4 rows × 115 columns</p>\n",
       "</div>"
      ],
      "text/plain": [
       "       Q1: GOING OUT? Q2: GENDER  Q3: AGE Q4: COUNTRY  \\\n",
       "count            2350       2419     2376        2396   \n",
       "unique              2          4      106         128   \n",
       "top                No       Male       40         USA   \n",
       "freq             2038       1467       92         699   \n",
       "\n",
       "       Q5: STATE, PROVINCE, COUNTY, ETC Q6 | 100 Grand Bar  \\\n",
       "count                              2360               1713   \n",
       "unique                              511                  3   \n",
       "top                          California                JOY   \n",
       "freq                                132                873   \n",
       "\n",
       "       Q6 | Anonymous brown globs that come in black and orange wrappers\\t(a.k.a. Mary Janes)  \\\n",
       "count                                                1726                                       \n",
       "unique                                                  3                                       \n",
       "top                                               DESPAIR                                       \n",
       "freq                                                 1089                                       \n",
       "\n",
       "       Q6 | Any full-sized candy bar Q6 | Black Jacks  \\\n",
       "count                           1788             1502   \n",
       "unique                             3                3   \n",
       "top                              JOY          DESPAIR   \n",
       "freq                            1559              793   \n",
       "\n",
       "       Q6 | Bonkers (the candy)  ... Q6 | White Bread  \\\n",
       "count                      1468  ...             1703   \n",
       "unique                        3  ...                3   \n",
       "top                         MEH  ...          DESPAIR   \n",
       "freq                        857  ...             1455   \n",
       "\n",
       "       Q6 | Whole Wheat anything Q6 | York Peppermint Patties Q7: JOY OTHER  \\\n",
       "count                       1713                         1755           911   \n",
       "unique                         3                            3           867   \n",
       "top                      DESPAIR                          JOY    Almond Joy   \n",
       "freq                        1289                         1105            10   \n",
       "\n",
       "       Q8: DESPAIR OTHER Q9: OTHER COMMENTS      Q10: DRESS  \\\n",
       "count                717                386            1716   \n",
       "unique               685                385               2   \n",
       "top                Trump       nom nom nom!  White and gold   \n",
       "freq                   7                  2            1081   \n",
       "\n",
       "                                             Unnamed: 113 Q11: DAY  \\\n",
       "count                                                   9     1735   \n",
       "unique                                                  1        2   \n",
       "top     dress (https://survey.ubc.ca/media/assets/user...   Friday   \n",
       "freq                                                    9     1091   \n",
       "\n",
       "       Click Coordinates (x, y)  \n",
       "count                      1605  \n",
       "unique                      952  \n",
       "top                    (77, 24)  \n",
       "freq                          9  \n",
       "\n",
       "[4 rows x 115 columns]"
      ]
     },
     "execution_count": 8,
     "metadata": {},
     "output_type": "execute_result"
    }
   ],
   "source": [
    "# see quick info of category values \n",
    "\n",
    "candyData.describe(include = object)"
   ]
  },
  {
   "cell_type": "markdown",
   "id": "3a9c2c50",
   "metadata": {},
   "source": [
    "**Interpretation:** The dataset has many empty values and there are no identical rows. We should get rid of unnecessary columns, change the data types of some columns and rename certain columns to prevent confusion."
   ]
  },
  {
   "cell_type": "code",
   "execution_count": 9,
   "id": "62613a34",
   "metadata": {},
   "outputs": [
    {
     "name": "stdout",
     "output_type": "stream",
     "text": [
      "Column Q7: JOY OTHER contains 1549 nan value\n",
      "\n",
      "Column Q8: DESPAIR OTHER contains 1743 nan value\n",
      "\n",
      "Column Q9: OTHER COMMENTS contains 2074 nan value\n",
      "\n",
      "Column Unnamed: 113 contains 2451 nan value\n",
      "\n",
      "Column Q12: MEDIA [Daily Dish] contains 2375 nan value\n",
      "\n",
      "Column Q12: MEDIA [ESPN] contains 2361 nan value\n",
      "\n",
      "Column Q12: MEDIA [Yahoo] contains 2393 nan value\n",
      "\n"
     ]
    }
   ],
   "source": [
    "# show columns that hase more 50 % nan value\n",
    "\n",
    "for i in range(len(candyData.isnull().sum())):\n",
    "    if candyData.isna().sum()[i] > 1229 :\n",
    "        print(f\"Column {candyData.isna().sum().index[i]} contains {candyData.isna().sum()[i]} nan value\\n\")"
   ]
  },
  {
   "cell_type": "code",
   "execution_count": 10,
   "id": "2cac387d",
   "metadata": {},
   "outputs": [],
   "source": [
    "# drop columns we not used\n",
    "\n",
    "candyData.drop(columns = [\"Internal ID\", \"Unnamed: 113\", \"Click Coordinates (x, y)\"], inplace = True)"
   ]
  },
  {
   "cell_type": "code",
   "execution_count": 11,
   "id": "99d1ff68",
   "metadata": {},
   "outputs": [],
   "source": [
    "# drop columns that contain more than 50 % nan value\n",
    "\n",
    "candyData.drop(columns=[\"Q7: JOY OTHER\", \"Q8: DESPAIR OTHER\", \"Q9: OTHER COMMENTS\"],inplace= True)"
   ]
  },
  {
   "cell_type": "code",
   "execution_count": 12,
   "id": "5f00c1ce",
   "metadata": {},
   "outputs": [],
   "source": [
    "# handle columns name\n",
    "\n",
    "# 1- create dictionary key is old name and value is new name\n",
    "newNames = {\"Q1: GOING OUT?\" :\"going out\", \"Q2: GENDER\": \"gender\", \"Q3: AGE\": \"age\", \"Q4: COUNTRY\": \"country\",\n",
    "            \"Q10: DRESS\" : \"dress\", \"Q12: MEDIA [Science]\":\"Science\",\"Q11: DAY\": \"day\", \"Q12: MEDIA [Daily Dish]\":\"Daily Dish\",\n",
    "            \"Q12: MEDIA [ESPN]\":\"ESPN\", \"Q12: MEDIA [Yahoo]\":\"Yahoo\"}\n",
    "\n",
    "# 2- rename columns\n",
    "candyData.rename(columns = newNames, inplace= True)"
   ]
  },
  {
   "cell_type": "code",
   "execution_count": 13,
   "id": "d520e0d4",
   "metadata": {},
   "outputs": [],
   "source": [
    "def count_plot(x_axis = None, y_axis = None, hue = None, rotation = 0, top = None):\n",
    "    \"\"\"\n",
    "    1) input : x_axis, column name, data type must be object or categorical\n",
    "    3) output : cout plot using seaborn modules, unique values in x-axis and frequency in y-axis\n",
    "    4) use bar_label to show frequency of each unique values above each column in graph\n",
    "    5) top parameter i use it to specify indexes i want to see it\n",
    "    \"\"\"\n",
    "    if x_axis: # if we neet to visualized in x-axis\n",
    "        order = candyData[x_axis].value_counts().iloc[:top].index\n",
    "        \n",
    "    else : # if we neet to visualized in y-axis\n",
    "        order = candyData[y_axis].value_counts().iloc[:top].index\n",
    "        \n",
    "    graph = sns.countplot(x = x_axis, y = y_axis, data = candyData, hue = hue, order = order)\n",
    "    for container in graph.containers:\n",
    "        graph.bar_label(container)\n",
    "        \n",
    "        \n",
    "    plt.xticks(rotation = rotation)\n",
    "    plt.show()"
   ]
  },
  {
   "cell_type": "code",
   "execution_count": 14,
   "id": "22c6be97",
   "metadata": {},
   "outputs": [],
   "source": [
    "# create function that visualized categorical column using pie plot\n",
    "\n",
    "def pie_plot(column_name, explodeIndex = None):\n",
    "    \"\"\"\n",
    "    1) input : column name, column data type must be object or categorical\n",
    "    2) explodeIndex, is the index i need to explode it \n",
    "    2) output : circle chart that shows size of each unique values and percentage \n",
    "    \"\"\"\n",
    "    # Create explode list with zeros of size equal to the number of unique values\n",
    "    explodeList = [0] * candyData[column_name].nunique()\n",
    "    \n",
    "    # Check and set explodeIndex value \n",
    "    if explodeIndex is not None:\n",
    "        explodeList[explodeIndex] = 0.1\n",
    "    \n",
    "    # Create pie plot\n",
    "    plt.pie(candyData[column_name].value_counts(), labels = candyData[column_name].value_counts().index, shadow = True, autopct = \"%1.1f%%\",  explode = explodeList)\n",
    "    plt.show()"
   ]
  },
  {
   "cell_type": "code",
   "execution_count": 15,
   "id": "4a63a341",
   "metadata": {},
   "outputs": [],
   "source": [
    "# create function that visualized numeric columns using box plot\n",
    "\n",
    "def box_plot(x_axis = None, y_axis = None):\n",
    "    \"\"\"\n",
    "    input : x_axis, y_axis and hue column, column data type must be numeric in y_axis\n",
    "    output : box plot to see distribution of column values such as min,max,mean,medien,std\n",
    "    \"\"\"\n",
    "    sns.boxplot(x = x_axis, y = y_axis, data = candyData)\n",
    "    plt.xlabel(x_axis)\n",
    "    plt.show()"
   ]
  },
  {
   "cell_type": "code",
   "execution_count": 16,
   "id": "8d85bdfb",
   "metadata": {},
   "outputs": [
    {
     "data": {
      "text/plain": [
       "array([nan, 'No', 'Yes'], dtype=object)"
      ]
     },
     "execution_count": 16,
     "metadata": {},
     "output_type": "execute_result"
    }
   ],
   "source": [
    "# show unique values\n",
    "\n",
    "candyData[\"going out\"].unique()"
   ]
  },
  {
   "cell_type": "code",
   "execution_count": 17,
   "id": "f24e0de8",
   "metadata": {},
   "outputs": [
    {
     "data": {
      "text/plain": [
       "110"
      ]
     },
     "execution_count": 17,
     "metadata": {},
     "output_type": "execute_result"
    }
   ],
   "source": [
    "# see number of missing values \n",
    "\n",
    "candyData[\"going out\"].isna().sum()"
   ]
  },
  {
   "cell_type": "code",
   "execution_count": 18,
   "id": "a73e5c38",
   "metadata": {},
   "outputs": [],
   "source": [
    "# fill nan value with maybe (yse,no)\n",
    "\n",
    "candyData[\"going out\"].fillna(\"MayBe\",inplace = True)"
   ]
  },
  {
   "cell_type": "code",
   "execution_count": 19,
   "id": "c0de394e",
   "metadata": {},
   "outputs": [
    {
     "data": {
      "image/png": "[encoded data removed]",
      "text/plain": [
       "<Figure size 640x480 with 1 Axes>"
      ]
     },
     "metadata": {},
     "output_type": "display_data"
    }
   ],
   "source": [
    "# visualized going out column using pie plot function i create it in cell 15\n",
    "\n",
    "pie_plot(column_name = \"going out\", explodeIndex = 0)"
   ]
  },
  {
   "cell_type": "markdown",
   "id": "ce147859",
   "metadata": {},
   "source": [
    "**Interpretation:** Most people are not going outside much."
   ]
  },
  {
   "cell_type": "code",
   "execution_count": 20,
   "id": "745fd698",
   "metadata": {},
   "outputs": [
    {
     "data": {
      "text/plain": [
       "array([nan, 'Male', 'Female', \"I'd rather not say\", 'Other'], dtype=object)"
      ]
     },
     "execution_count": 20,
     "metadata": {},
     "output_type": "execute_result"
    }
   ],
   "source": [
    "# show unique values\n",
    "\n",
    "candyData[\"gender\"].unique()"
   ]
  },
  {
   "cell_type": "code",
   "execution_count": 21,
   "id": "024b0f98",
   "metadata": {},
   "outputs": [
    {
     "data": {
      "text/plain": [
       "41"
      ]
     },
     "execution_count": 21,
     "metadata": {},
     "output_type": "execute_result"
    }
   ],
   "source": [
    "# see number of missing values \n",
    "\n",
    "candyData[\"gender\"].isna().sum()"
   ]
  },
  {
   "cell_type": "code",
   "execution_count": 22,
   "id": "21646dd8",
   "metadata": {},
   "outputs": [],
   "source": [
    "# fill missing values \n",
    "\n",
    "candyData[\"gender\"].fillna(\"Other\", inplace = True)"
   ]
  },
  {
   "cell_type": "code",
   "execution_count": 23,
   "id": "54fdbd53",
   "metadata": {},
   "outputs": [],
   "source": [
    "# replace Other with I'd rather not say\n",
    "\n",
    "candyData[\"gender\"].replace(\"I'd rather not say\", \"Other\", inplace = True)"
   ]
  },
  {
   "cell_type": "code",
   "execution_count": 24,
   "id": "80f3a263",
   "metadata": {},
   "outputs": [
    {
     "data": {
      "image/png": "[encoded data removed]",
      "text/plain": [
       "<Figure size 640x480 with 1 Axes>"
      ]
     },
     "metadata": {},
     "output_type": "display_data"
    }
   ],
   "source": [
    "# visualized gender column using pie plot function i create it in cell 15\n",
    "\n",
    "pie_plot(column_name = \"gender\", explodeIndex = 0)"
   ]
  },
  {
   "cell_type": "code",
   "execution_count": 25,
   "id": "dfcf50ef",
   "metadata": {},
   "outputs": [
    {
     "data": {
      "text/plain": [
       "array([nan, 44, 49, 40, 23, 53, 33, 43, 56, 64, 37, 59, 48, 54, 36, 45,\n",
       "       25, 34, 35, 38, 58, 50, 47, 16, 52, 63, 65, 41, 27, 31, 61, 46, 42,\n",
       "       62, 29, 39, 32, 28, 69, 67, 30, 22, 26, 51, 70, 24, 18, 19,\n",
       "       'Old enough', 57, 60, 66, 12, 'Many', 55, 72, '?', 21, 11, 'no', 9,\n",
       "       68, 20, 6, 10, 71, 90, 13, '45-55', 312, 99, 7, 'hahahahaha', 88,\n",
       "       39.4, 74, 102, 'older than dirt', 17, 15, 8, 75, '5u', 'Enough',\n",
       "       'See question 2', '24-50', 14, 'Over 50', 100, 76, 1000,\n",
       "       'sixty-nine', '46 Halloweens.', 'ancient', 77, 'OLD', 'old', 73,\n",
       "       70.5, 1, 'MY NAME JEFF', 4, '59 on the day after Halloween',\n",
       "       'old enough', 'your mom',\n",
       "       'I can remember when Java was a cool new language', '60+'],\n",
       "      dtype=object)"
      ]
     },
     "execution_count": 25,
     "metadata": {},
     "output_type": "execute_result"
    }
   ],
   "source": [
    "# show unique values\n",
    "\n",
    "candyData[\"age\"].unique()"
   ]
  },
  {
   "cell_type": "code",
   "execution_count": 26,
   "id": "530013a3",
   "metadata": {},
   "outputs": [],
   "source": [
    "# convert column data type to numiric and replace non-digits to NAN value\n",
    "\n",
    "candyData['age'] = pd.to_numeric(candyData[\"age\"], errors = \"coerce\")"
   ]
  },
  {
   "cell_type": "code",
   "execution_count": 27,
   "id": "c6efa794",
   "metadata": {},
   "outputs": [
    {
     "data": {
      "text/plain": [
       "108"
      ]
     },
     "execution_count": 27,
     "metadata": {},
     "output_type": "execute_result"
    }
   ],
   "source": [
    "# show how many nan value \n",
    "\n",
    "candyData[\"age\"].isna().sum()"
   ]
  },
  {
   "cell_type": "code",
   "execution_count": 28,
   "id": "bdb48a27",
   "metadata": {},
   "outputs": [
    {
     "data": {
      "image/png": "[encoded data removed]",
      "text/plain": [
       "<Figure size 640x480 with 1 Axes>"
      ]
     },
     "metadata": {},
     "output_type": "display_data"
    }
   ],
   "source": [
    "# show summary statistic\n",
    "\n",
    "box_plot(x_axis = \"age\") # box plot function i create it in cell 16"
   ]
  },
  {
   "cell_type": "code",
   "execution_count": 29,
   "id": "5fd8fc6d",
   "metadata": {},
   "outputs": [],
   "source": [
    "# fixed outlier\n",
    "\n",
    "Q1, Q3 = candyData[\"age\"].quantile(0.25), candyData[\"age\"].quantile(0.75)\n",
    "\n",
    "IQR = Q3 - Q1\n",
    "\n",
    "Upper = Q3 + (1.5 * IQR)\n",
    "Lower = Q1 - (1.5 * IQR)\n",
    "\n",
    "# replace out of range with nan value\n",
    "candyData.loc[(candyData[\"age\"] > Upper) | (candyData[\"age\"] < Lower), \"age\"] = np.nan"
   ]
  },
  {
   "cell_type": "code",
   "execution_count": 30,
   "id": "6b9934e5",
   "metadata": {},
   "outputs": [],
   "source": [
    "# fill nan value with median\n",
    "\n",
    "median = candyData[\"age\"].median()\n",
    "candyData[\"age\"].fillna(median, inplace = True)"
   ]
  },
  {
   "cell_type": "code",
   "execution_count": 31,
   "id": "35758ac5",
   "metadata": {},
   "outputs": [
    {
     "data": {
      "image/png": "[encoded data removed]",
      "text/plain": [
       "<Figure size 640x480 with 1 Axes>"
      ]
     },
     "metadata": {},
     "output_type": "display_data"
    }
   ],
   "source": [
    "# see distribution\n",
    "\n",
    "sns.kdeplot(x = \"age\", data = candyData, fill = True)\n",
    "plt.show()"
   ]
  },
  {
   "cell_type": "markdown",
   "id": "62a90dfd",
   "metadata": {},
   "source": [
    "**Interpretation:** The majority of people who took the survey were in the age range of 35 to 50."
   ]
  },
  {
   "cell_type": "code",
   "execution_count": 32,
   "id": "bb7d4221",
   "metadata": {},
   "outputs": [
    {
     "data": {
      "text/plain": [
       "array([nan, 'USA ', 'USA', 'us', 'usa', 'canada', 'Canada', 'Us', 'US',\n",
       "       'Murica', 'United States', 'uk', 'United Kingdom', 'united states',\n",
       "       'Usa', 'United States ', 'United staes',\n",
       "       'United States of America', 'UAE', 'England', 'UK', 'canada ',\n",
       "       'Mexico', 'United states', 'u.s.a.', 'USAUSAUSA', 'america', 35,\n",
       "       'france', 'United States of America ', 'U.S.A.', 'finland',\n",
       "       'unhinged states', 'Canada ', 'united states of america',\n",
       "       'US of A', 'Unites States', 'The United States', 'North Carolina ',\n",
       "       'Unied States', 'Netherlands', 'germany', 'Europe', 'Earth', 'U S',\n",
       "       'u.s.', 'U.K. ', 'Costa Rica', 'The United States of America',\n",
       "       'unite states', 'U.S.', 46, 'cascadia', 'Australia',\n",
       "       'insanity lately', 'Greece', 'USA? Hard to tell anymore..',\n",
       "       \"'merica\", 'usas', 'Pittsburgh', 45, 'United State', 32, 'France',\n",
       "       'australia', 'A', 'Can', 'Canae', 'New York', 'Trumpistan',\n",
       "       'Ireland', 'United Sates', 'Korea', 'California', 'Japan', 'USa',\n",
       "       'South africa',\n",
       "       'I pretend to be from Canada, but I am really from the United States.',\n",
       "       'Usa ', 'Uk', 'Iceland', 'Germany', 'Canada`', 'Scotland', 'UK ',\n",
       "       'Denmark', 'United Stated', 'France ', 'Switzerland',\n",
       "       'Ahem....Amerca', 'UD', 'Scotland ', 'South Korea', 'New Jersey',\n",
       "       'CANADA', 'Indonesia', 'United ststes', 'America',\n",
       "       'The Netherlands', 'United Statss', 'endland', 'Atlantis',\n",
       "       'murrika', 'USA! USA! USA!', 'USAA', 'Alaska', 'united States ',\n",
       "       'soviet canuckistan', 'N. America', 'Singapore', 'USSA', 'China',\n",
       "       'Taiwan', 'Ireland ', 'hong kong', 'spain', 'Sweden', 'Hong Kong',\n",
       "       'U.S. ', 'Narnia', 'u s a', 'United Statea', 'united ststes', 1,\n",
       "       'subscribe to dm4uz3 on youtube', 'United kingdom',\n",
       "       'USA USA USA!!!!', \"I don't know anymore\", 'Fear and Loathing'],\n",
       "      dtype=object)"
      ]
     },
     "execution_count": 32,
     "metadata": {},
     "output_type": "execute_result"
    }
   ],
   "source": [
    "# show unique values\n",
    "\n",
    "candyData[\"country\"].unique()"
   ]
  },
  {
   "cell_type": "code",
   "execution_count": 33,
   "id": "31f81500",
   "metadata": {},
   "outputs": [],
   "source": [
    "# fixed some errors\n",
    "\n",
    "# 1- convert all value to lower case\n",
    "candyData[\"country\"] = candyData[\"country\"].str.lower()\n",
    "\n",
    "# 2- remove extra spaces \n",
    "candyData[\"country\"] = candyData[\"country\"].str.strip()"
   ]
  },
  {
   "cell_type": "code",
   "execution_count": 34,
   "id": "df6006b5",
   "metadata": {},
   "outputs": [
    {
     "data": {
      "text/plain": [
       "69"
      ]
     },
     "execution_count": 34,
     "metadata": {},
     "output_type": "execute_result"
    }
   ],
   "source": [
    "# show how many nan value \n",
    "\n",
    "candyData[\"country\"].isna().sum() "
   ]
  },
  {
   "cell_type": "code",
   "execution_count": 35,
   "id": "7487571a",
   "metadata": {},
   "outputs": [],
   "source": [
    "# fill nan value\n",
    "\n",
    "candyData[\"country\"].fillna(\"Other\", inplace = True)"
   ]
  },
  {
   "cell_type": "code",
   "execution_count": 36,
   "id": "ac77b9ba",
   "metadata": {},
   "outputs": [
    {
     "data": {
      "text/plain": [
       "array(['Other', 'usa', 'us', 'canada', 'murica', 'united states', 'uk',\n",
       "       'united kingdom', 'united staes', 'united states of america',\n",
       "       'uae', 'england', 'mexico', 'u.s.a.', 'usausausa', 'america',\n",
       "       'france', 'finland', 'unhinged states', 'us of a', 'unites states',\n",
       "       'the united states', 'north carolina', 'unied states',\n",
       "       'netherlands', 'germany', 'europe', 'earth', 'u s', 'u.s.', 'u.k.',\n",
       "       'costa rica', 'the united states of america', 'unite states',\n",
       "       'cascadia', 'australia', 'insanity lately', 'greece',\n",
       "       'usa? hard to tell anymore..', \"'merica\", 'usas', 'pittsburgh',\n",
       "       'united state', 'a', 'can', 'canae', 'new york', 'trumpistan',\n",
       "       'ireland', 'united sates', 'korea', 'california', 'japan',\n",
       "       'south africa',\n",
       "       'i pretend to be from canada, but i am really from the united states.',\n",
       "       'iceland', 'canada`', 'scotland', 'denmark', 'united stated',\n",
       "       'switzerland', 'ahem....amerca', 'ud', 'south korea', 'new jersey',\n",
       "       'indonesia', 'united ststes', 'the netherlands', 'united statss',\n",
       "       'endland', 'atlantis', 'murrika', 'usa! usa! usa!', 'usaa',\n",
       "       'alaska', 'soviet canuckistan', 'n. america', 'singapore', 'ussa',\n",
       "       'china', 'taiwan', 'hong kong', 'spain', 'sweden', 'narnia',\n",
       "       'u s a', 'united statea', 'subscribe to dm4uz3 on youtube',\n",
       "       'usa usa usa!!!!', \"i don't know anymore\", 'fear and loathing'],\n",
       "      dtype=object)"
      ]
     },
     "execution_count": 36,
     "metadata": {},
     "output_type": "execute_result"
    }
   ],
   "source": [
    "# show again unique value\n",
    "\n",
    "candyData[\"country\"].unique()"
   ]
  },
  {
   "cell_type": "code",
   "execution_count": 37,
   "id": "cf1a1a58",
   "metadata": {},
   "outputs": [],
   "source": [
    "countries = pd.Series(['usa', 'united states of america','america','united kingdom england', 'hong kong', 'china', 'sweden', 'spain',\n",
    "                       'ireland', 'taiwan', 'singapore', 'netherlands',\n",
    "                       'indonesia', 'south korea', 'switzerland', 'denmark', 'scotland', 'canada', 'iceland', 'south africa',\n",
    "                       'japan', 'greece', 'costa rica', 'germany', 'finland', 'france', 'mexico'])\n",
    "\n",
    "for country in countries:\n",
    "    matches = process.extract(country, candyData['country'], limit = candyData.shape[0])\n",
    "    for potential_match in matches:\n",
    "        if potential_match[1] >= 80:\n",
    "            candyData.loc[candyData['country'] == potential_match[0], 'country'] = country"
   ]
  },
  {
   "cell_type": "code",
   "execution_count": 38,
   "id": "53e7fd62",
   "metadata": {},
   "outputs": [
    {
     "data": {
      "text/plain": [
       "array(['Other', 'usa', 'canada', 'murica', 'america', 'uk', 'uae',\n",
       "       'united kingdom england', 'mexico', 'u.s.a.', 'france', 'finland',\n",
       "       'north carolina', 'netherlands', 'germany', 'europe', 'earth',\n",
       "       'u.k.', 'costa rica', 'cascadia', 'australia', 'insanity lately',\n",
       "       'greece', 'usa? hard to tell anymore..', 'pittsburgh', 'canae',\n",
       "       'new york', 'trumpistan', 'iceland', 'south korea', 'california',\n",
       "       'japan', 'south africa', 'scotland', 'denmark', 'switzerland',\n",
       "       'ud', 'new jersey', 'indonesia', 'endland', 'atlantis', 'murrika',\n",
       "       'alaska', 'soviet canuckistan', 'singapore', 'china', 'taiwan',\n",
       "       'hong kong', 'spain', 'sweden', 'narnia', 'u s a',\n",
       "       'subscribe to dm4uz3 on youtube', \"i don't know anymore\",\n",
       "       'fear and loathing'], dtype=object)"
      ]
     },
     "execution_count": 38,
     "metadata": {},
     "output_type": "execute_result"
    }
   ],
   "source": [
    "# show unique values again\n",
    "\n",
    "candyData[\"country\"].unique()"
   ]
  },
  {
   "cell_type": "code",
   "execution_count": 39,
   "id": "fff3d0f4",
   "metadata": {},
   "outputs": [],
   "source": [
    "mapping = {'murica':'usa', 'united states of america':'usa','america':'usa', 'u.s.a.':'usa',\n",
    "'north carolina':'usa', 'usa? hard to tell anymore..':'usa', 'pittsburgh':'usa', 'new york':'usa', 'trumpistan':'usa',\n",
    "          'california':'usa', 'ud':'usa', 'new jersey':'usa', 'endland':'uk', 'soviet canuckistan':'canada',\n",
    "           'u s a':'usa', 'united kingdom england':'uk', 'u.k.':'uk', 'cascadia':'usa'}\n",
    "candyData['country'] = candyData['country'].replace(mapping)"
   ]
  },
  {
   "cell_type": "code",
   "execution_count": 40,
   "id": "b6665fad",
   "metadata": {},
   "outputs": [
    {
     "data": {
      "text/plain": [
       "array(['Other', 'usa', 'canada', 'uk', 'uae', 'mexico', 'france',\n",
       "       'finland', 'netherlands', 'germany', 'europe', 'earth',\n",
       "       'costa rica', 'australia', 'insanity lately', 'greece', 'canae',\n",
       "       'iceland', 'south korea', 'japan', 'south africa', 'scotland',\n",
       "       'denmark', 'switzerland', 'indonesia', 'atlantis', 'murrika',\n",
       "       'alaska', 'singapore', 'china', 'taiwan', 'hong kong', 'spain',\n",
       "       'sweden', 'narnia', 'subscribe to dm4uz3 on youtube',\n",
       "       \"i don't know anymore\", 'fear and loathing'], dtype=object)"
      ]
     },
     "execution_count": 40,
     "metadata": {},
     "output_type": "execute_result"
    }
   ],
   "source": [
    "# show unique values again\n",
    "\n",
    "candyData[\"country\"].unique()"
   ]
  },
  {
   "cell_type": "code",
   "execution_count": 41,
   "id": "56e044a7",
   "metadata": {},
   "outputs": [
    {
     "name": "stderr",
     "output_type": "stream",
     "text": [
      "C:\\Users\\Admin\\AppData\\Local\\Temp\\ipykernel_9260\\3281192361.py:1: SettingWithCopyWarning: \n",
      "A value is trying to be set on a copy of a slice from a DataFrame\n",
      "\n",
      "See the caveats in the documentation: https://pandas.pydata.org/pandas-docs/stable/user_guide/indexing.html#returning-a-view-versus-a-copy\n",
      "  candyData.country[~candyData['country'].isin(['usa', 'uk','canada'])] = 'other'\n"
     ]
    }
   ],
   "source": [
    "candyData.country[~candyData['country'].isin(['usa', 'uk','canada'])] = 'other'"
   ]
  },
  {
   "cell_type": "code",
   "execution_count": 42,
   "id": "3da43d0f",
   "metadata": {},
   "outputs": [
    {
     "data": {
      "image/png": "[encoded data removed]",
      "text/plain": [
       "<Figure size 640x480 with 1 Axes>"
      ]
     },
     "metadata": {},
     "output_type": "display_data"
    }
   ],
   "source": [
    "# visualized country column\n",
    "\n",
    "pie_plot(column_name = \"country\", explodeIndex = 0)"
   ]
  },
  {
   "cell_type": "markdown",
   "id": "a919c6dc",
   "metadata": {},
   "source": [
    "**Interpretation:** Many people from the USA and Canada."
   ]
  },
  {
   "cell_type": "code",
   "execution_count": 43,
   "id": "7b104d73",
   "metadata": {},
   "outputs": [
    {
     "data": {
      "text/plain": [
       "array([nan, 'White and gold', 'Blue and black'], dtype=object)"
      ]
     },
     "execution_count": 43,
     "metadata": {},
     "output_type": "execute_result"
    }
   ],
   "source": [
    "# show unique values\n",
    "\n",
    "candyData[\"dress\"].unique()"
   ]
  },
  {
   "cell_type": "code",
   "execution_count": 44,
   "id": "82f6f1c9",
   "metadata": {},
   "outputs": [
    {
     "data": {
      "text/plain": [
       "744"
      ]
     },
     "execution_count": 44,
     "metadata": {},
     "output_type": "execute_result"
    }
   ],
   "source": [
    "# see number of missing values \n",
    "\n",
    "candyData[\"dress\"].isna().sum()"
   ]
  },
  {
   "cell_type": "code",
   "execution_count": 45,
   "id": "be0cdb3c",
   "metadata": {},
   "outputs": [],
   "source": [
    "# fill nan value\n",
    "\n",
    "candyData[\"dress\"].fillna(\"Other colors\", inplace = True)"
   ]
  },
  {
   "cell_type": "code",
   "execution_count": 46,
   "id": "de5679bd",
   "metadata": {},
   "outputs": [
    {
     "data": {
      "image/png": "[encoded data removed]",
      "text/plain": [
       "<Figure size 640x480 with 1 Axes>"
      ]
     },
     "metadata": {},
     "output_type": "display_data"
    }
   ],
   "source": [
    "# visualized dress column\n",
    "\n",
    "pie_plot(column_name = \"dress\", explodeIndex = 0)"
   ]
  },
  {
   "cell_type": "markdown",
   "id": "394b784d",
   "metadata": {},
   "source": [
    "**Interpretation:** Many people enjoy wearing clothes that are white and gold."
   ]
  },
  {
   "cell_type": "code",
   "execution_count": 47,
   "id": "6233031d",
   "metadata": {},
   "outputs": [
    {
     "data": {
      "text/plain": [
       "array([nan, 'Sunday', 'Friday'], dtype=object)"
      ]
     },
     "execution_count": 47,
     "metadata": {},
     "output_type": "execute_result"
    }
   ],
   "source": [
    "# show unique values\n",
    "\n",
    "candyData[\"day\"].unique()"
   ]
  },
  {
   "cell_type": "code",
   "execution_count": 48,
   "id": "913b9308",
   "metadata": {},
   "outputs": [
    {
     "data": {
      "text/plain": [
       "725"
      ]
     },
     "execution_count": 48,
     "metadata": {},
     "output_type": "execute_result"
    }
   ],
   "source": [
    "# see number of missing values \n",
    "\n",
    "candyData[\"day\"].isna().sum()"
   ]
  },
  {
   "cell_type": "code",
   "execution_count": 49,
   "id": "fcf8ffa2",
   "metadata": {},
   "outputs": [],
   "source": [
    "# fill nan value \n",
    "\n",
    "candyData[\"day\"].fillna(\"Other Day\", inplace = True)  "
   ]
  },
  {
   "cell_type": "code",
   "execution_count": 50,
   "id": "89936837",
   "metadata": {},
   "outputs": [
    {
     "data": {
      "image/png": "[encoded data removed]",
      "text/plain": [
       "<Figure size 640x480 with 1 Axes>"
      ]
     },
     "metadata": {},
     "output_type": "display_data"
    }
   ],
   "source": [
    "# visualized day column\n",
    "\n",
    "pie_plot(column_name = \"day\", explodeIndex = 0)"
   ]
  },
  {
   "cell_type": "markdown",
   "id": "269dd9b7",
   "metadata": {},
   "source": [
    "**Interpretation:** Many people like Friday the most."
   ]
  },
  {
   "cell_type": "code",
   "execution_count": 51,
   "id": "ab01fcdb",
   "metadata": {},
   "outputs": [
    {
     "data": {
      "text/html": [
       "<div>\n",
       "<style scoped>\n",
       "    .dataframe tbody tr th:only-of-type {\n",
       "        vertical-align: middle;\n",
       "    }\n",
       "\n",
       "    .dataframe tbody tr th {\n",
       "        vertical-align: top;\n",
       "    }\n",
       "\n",
       "    .dataframe thead th {\n",
       "        text-align: right;\n",
       "    }\n",
       "</style>\n",
       "<table border=\"1\" class=\"dataframe\">\n",
       "  <thead>\n",
       "    <tr style=\"text-align: right;\">\n",
       "      <th></th>\n",
       "      <th>Daily Dish</th>\n",
       "      <th>Science</th>\n",
       "      <th>ESPN</th>\n",
       "      <th>Yahoo</th>\n",
       "    </tr>\n",
       "  </thead>\n",
       "  <tbody>\n",
       "    <tr>\n",
       "      <th>0</th>\n",
       "      <td>NaN</td>\n",
       "      <td>NaN</td>\n",
       "      <td>NaN</td>\n",
       "      <td>NaN</td>\n",
       "    </tr>\n",
       "    <tr>\n",
       "      <th>1</th>\n",
       "      <td>NaN</td>\n",
       "      <td>1.0</td>\n",
       "      <td>NaN</td>\n",
       "      <td>NaN</td>\n",
       "    </tr>\n",
       "    <tr>\n",
       "      <th>2</th>\n",
       "      <td>NaN</td>\n",
       "      <td>NaN</td>\n",
       "      <td>NaN</td>\n",
       "      <td>NaN</td>\n",
       "    </tr>\n",
       "    <tr>\n",
       "      <th>3</th>\n",
       "      <td>NaN</td>\n",
       "      <td>1.0</td>\n",
       "      <td>NaN</td>\n",
       "      <td>NaN</td>\n",
       "    </tr>\n",
       "    <tr>\n",
       "      <th>4</th>\n",
       "      <td>NaN</td>\n",
       "      <td>1.0</td>\n",
       "      <td>NaN</td>\n",
       "      <td>NaN</td>\n",
       "    </tr>\n",
       "    <tr>\n",
       "      <th>...</th>\n",
       "      <td>...</td>\n",
       "      <td>...</td>\n",
       "      <td>...</td>\n",
       "      <td>...</td>\n",
       "    </tr>\n",
       "    <tr>\n",
       "      <th>2455</th>\n",
       "      <td>NaN</td>\n",
       "      <td>NaN</td>\n",
       "      <td>NaN</td>\n",
       "      <td>NaN</td>\n",
       "    </tr>\n",
       "    <tr>\n",
       "      <th>2456</th>\n",
       "      <td>NaN</td>\n",
       "      <td>1.0</td>\n",
       "      <td>NaN</td>\n",
       "      <td>NaN</td>\n",
       "    </tr>\n",
       "    <tr>\n",
       "      <th>2457</th>\n",
       "      <td>NaN</td>\n",
       "      <td>1.0</td>\n",
       "      <td>NaN</td>\n",
       "      <td>NaN</td>\n",
       "    </tr>\n",
       "    <tr>\n",
       "      <th>2458</th>\n",
       "      <td>NaN</td>\n",
       "      <td>NaN</td>\n",
       "      <td>NaN</td>\n",
       "      <td>NaN</td>\n",
       "    </tr>\n",
       "    <tr>\n",
       "      <th>2459</th>\n",
       "      <td>1.0</td>\n",
       "      <td>NaN</td>\n",
       "      <td>NaN</td>\n",
       "      <td>NaN</td>\n",
       "    </tr>\n",
       "  </tbody>\n",
       "</table>\n",
       "<p>2460 rows × 4 columns</p>\n",
       "</div>"
      ],
      "text/plain": [
       "      Daily Dish  Science  ESPN  Yahoo\n",
       "0            NaN      NaN   NaN    NaN\n",
       "1            NaN      1.0   NaN    NaN\n",
       "2            NaN      NaN   NaN    NaN\n",
       "3            NaN      1.0   NaN    NaN\n",
       "4            NaN      1.0   NaN    NaN\n",
       "...          ...      ...   ...    ...\n",
       "2455         NaN      NaN   NaN    NaN\n",
       "2456         NaN      1.0   NaN    NaN\n",
       "2457         NaN      1.0   NaN    NaN\n",
       "2458         NaN      NaN   NaN    NaN\n",
       "2459         1.0      NaN   NaN    NaN\n",
       "\n",
       "[2460 rows x 4 columns]"
      ]
     },
     "execution_count": 51,
     "metadata": {},
     "output_type": "execute_result"
    }
   ],
   "source": [
    "# create sub dataframe media\n",
    "\n",
    "media = candyData[candyData.columns[-4:]]\n",
    "media"
   ]
  },
  {
   "cell_type": "code",
   "execution_count": 52,
   "id": "967e278e",
   "metadata": {},
   "outputs": [],
   "source": [
    "# fill nan value with No \n",
    "\n",
    "media = media.fillna(\"NO\")"
   ]
  },
  {
   "cell_type": "code",
   "execution_count": 53,
   "id": "8f3248c6",
   "metadata": {},
   "outputs": [],
   "source": [
    "# Show most website checked out\n",
    "\n",
    "# 1- craate list of media category\n",
    "media_category = [\"Science\", \"ESPN\", \"Daily Dish\", \"Yahoo\"]\n",
    "\n",
    "# 2- create dictionary key is media category and value is number of ones\n",
    "media_used = {}\n",
    "\n",
    "# 3- loop of list madie to get number of ones\n",
    "for category in media_category:\n",
    "    media_used[category] = len(candyData[candyData[category] == 1.0])\n",
    "    \n",
    "# 4- calculation number of No answer \n",
    "media_used[\"No answer\"] = candyData.shape[0] - sum(media_used.values())\n",
    "\n",
    "# 5- sorte media_used by values\n",
    "media_used = dict(sorted(media_used.items(), key = lambda item : item[1] ,reverse = True))\n",
    "\n",
    "# 6- get all keys in media_used\n",
    "keys = list(media_used.keys())\n",
    "\n",
    "# 7- get all values in media_used\n",
    "values = list(media_used.values())"
   ]
  },
  {
   "cell_type": "code",
   "execution_count": 54,
   "id": "c240b004",
   "metadata": {},
   "outputs": [],
   "source": [
    "# create media column and fill with nan value\n",
    "\n",
    "candyData[\"media\"] = np.nan"
   ]
  },
  {
   "cell_type": "code",
   "execution_count": 55,
   "id": "a8b62cf3",
   "metadata": {},
   "outputs": [],
   "source": [
    "# fill nan value using media used dictionary\n",
    "\n",
    "for key,value in media_used.items():\n",
    "    candyData[\"media\"].fillna(key,limit = value, inplace = True)"
   ]
  },
  {
   "cell_type": "code",
   "execution_count": 56,
   "id": "1241abf3",
   "metadata": {},
   "outputs": [
    {
     "data": {
      "image/png": "[encoded data removed]",
      "text/plain": [
       "<Figure size 640x480 with 1 Axes>"
      ]
     },
     "metadata": {},
     "output_type": "display_data"
    }
   ],
   "source": [
    "# visualized media column\n",
    "\n",
    "count_plot(x_axis = \"media\")"
   ]
  },
  {
   "cell_type": "markdown",
   "id": "6a4b95ff",
   "metadata": {},
   "source": [
    "**Interpretation:** Many people visit the science website the most."
   ]
  },
  {
   "cell_type": "code",
   "execution_count": 57,
   "id": "bf4c5dee",
   "metadata": {},
   "outputs": [],
   "source": [
    "# 1- create list of Question columns \n",
    "Question = [candy for candy in candyData.columns if 'Q6' in str(candy)]\n",
    "\n",
    "# 2- create dataframe call candy\n",
    "candy = pd.DataFrame(candyData[Question])"
   ]
  },
  {
   "cell_type": "code",
   "execution_count": 58,
   "id": "bad771fb",
   "metadata": {},
   "outputs": [
    {
     "data": {
      "text/html": [
       "<div>\n",
       "<style scoped>\n",
       "    .dataframe tbody tr th:only-of-type {\n",
       "        vertical-align: middle;\n",
       "    }\n",
       "\n",
       "    .dataframe tbody tr th {\n",
       "        vertical-align: top;\n",
       "    }\n",
       "\n",
       "    .dataframe thead th {\n",
       "        text-align: right;\n",
       "    }\n",
       "</style>\n",
       "<table border=\"1\" class=\"dataframe\">\n",
       "  <thead>\n",
       "    <tr style=\"text-align: right;\">\n",
       "      <th></th>\n",
       "      <th>Q6 | 100 Grand Bar</th>\n",
       "      <th>Q6 | Anonymous brown globs that come in black and orange wrappers\\t(a.k.a. Mary Janes)</th>\n",
       "      <th>Q6 | Any full-sized candy bar</th>\n",
       "      <th>Q6 | Black Jacks</th>\n",
       "      <th>Q6 | Bonkers (the candy)</th>\n",
       "      <th>Q6 | Bonkers (the board game)</th>\n",
       "      <th>Q6 | Bottle Caps</th>\n",
       "      <th>Q6 | Box'o'Raisins</th>\n",
       "      <th>Q6 | Broken glow stick</th>\n",
       "      <th>Q6 | Butterfinger</th>\n",
       "      <th>...</th>\n",
       "      <th>Q6 | Three Musketeers</th>\n",
       "      <th>Q6 | Tolberone something or other</th>\n",
       "      <th>Q6 | Trail Mix</th>\n",
       "      <th>Q6 | Twix</th>\n",
       "      <th>Q6 | Vials of pure high fructose corn syrup, for main-lining into your vein</th>\n",
       "      <th>Q6 | Vicodin</th>\n",
       "      <th>Q6 | Whatchamacallit Bars</th>\n",
       "      <th>Q6 | White Bread</th>\n",
       "      <th>Q6 | Whole Wheat anything</th>\n",
       "      <th>Q6 | York Peppermint Patties</th>\n",
       "    </tr>\n",
       "  </thead>\n",
       "  <tbody>\n",
       "    <tr>\n",
       "      <th>437</th>\n",
       "      <td>MEH</td>\n",
       "      <td>MEH</td>\n",
       "      <td>JOY</td>\n",
       "      <td>DESPAIR</td>\n",
       "      <td>DESPAIR</td>\n",
       "      <td>MEH</td>\n",
       "      <td>MEH</td>\n",
       "      <td>DESPAIR</td>\n",
       "      <td>DESPAIR</td>\n",
       "      <td>JOY</td>\n",
       "      <td>...</td>\n",
       "      <td>MEH</td>\n",
       "      <td>JOY</td>\n",
       "      <td>DESPAIR</td>\n",
       "      <td>MEH</td>\n",
       "      <td>MEH</td>\n",
       "      <td>JOY</td>\n",
       "      <td>MEH</td>\n",
       "      <td>DESPAIR</td>\n",
       "      <td>MEH</td>\n",
       "      <td>JOY</td>\n",
       "    </tr>\n",
       "    <tr>\n",
       "      <th>68</th>\n",
       "      <td>JOY</td>\n",
       "      <td>DESPAIR</td>\n",
       "      <td>JOY</td>\n",
       "      <td>MEH</td>\n",
       "      <td>MEH</td>\n",
       "      <td>MEH</td>\n",
       "      <td>JOY</td>\n",
       "      <td>DESPAIR</td>\n",
       "      <td>DESPAIR</td>\n",
       "      <td>JOY</td>\n",
       "      <td>...</td>\n",
       "      <td>JOY</td>\n",
       "      <td>MEH</td>\n",
       "      <td>MEH</td>\n",
       "      <td>MEH</td>\n",
       "      <td>DESPAIR</td>\n",
       "      <td>JOY</td>\n",
       "      <td>JOY</td>\n",
       "      <td>DESPAIR</td>\n",
       "      <td>DESPAIR</td>\n",
       "      <td>MEH</td>\n",
       "    </tr>\n",
       "    <tr>\n",
       "      <th>448</th>\n",
       "      <td>JOY</td>\n",
       "      <td>DESPAIR</td>\n",
       "      <td>JOY</td>\n",
       "      <td>DESPAIR</td>\n",
       "      <td>DESPAIR</td>\n",
       "      <td>DESPAIR</td>\n",
       "      <td>JOY</td>\n",
       "      <td>MEH</td>\n",
       "      <td>DESPAIR</td>\n",
       "      <td>JOY</td>\n",
       "      <td>...</td>\n",
       "      <td>JOY</td>\n",
       "      <td>JOY</td>\n",
       "      <td>JOY</td>\n",
       "      <td>JOY</td>\n",
       "      <td>DESPAIR</td>\n",
       "      <td>JOY</td>\n",
       "      <td>DESPAIR</td>\n",
       "      <td>DESPAIR</td>\n",
       "      <td>MEH</td>\n",
       "      <td>JOY</td>\n",
       "    </tr>\n",
       "    <tr>\n",
       "      <th>504</th>\n",
       "      <td>NaN</td>\n",
       "      <td>NaN</td>\n",
       "      <td>NaN</td>\n",
       "      <td>NaN</td>\n",
       "      <td>NaN</td>\n",
       "      <td>NaN</td>\n",
       "      <td>NaN</td>\n",
       "      <td>NaN</td>\n",
       "      <td>NaN</td>\n",
       "      <td>NaN</td>\n",
       "      <td>...</td>\n",
       "      <td>NaN</td>\n",
       "      <td>NaN</td>\n",
       "      <td>NaN</td>\n",
       "      <td>NaN</td>\n",
       "      <td>NaN</td>\n",
       "      <td>NaN</td>\n",
       "      <td>NaN</td>\n",
       "      <td>NaN</td>\n",
       "      <td>NaN</td>\n",
       "      <td>NaN</td>\n",
       "    </tr>\n",
       "    <tr>\n",
       "      <th>2065</th>\n",
       "      <td>MEH</td>\n",
       "      <td>DESPAIR</td>\n",
       "      <td>JOY</td>\n",
       "      <td>DESPAIR</td>\n",
       "      <td>DESPAIR</td>\n",
       "      <td>DESPAIR</td>\n",
       "      <td>DESPAIR</td>\n",
       "      <td>MEH</td>\n",
       "      <td>DESPAIR</td>\n",
       "      <td>MEH</td>\n",
       "      <td>...</td>\n",
       "      <td>DESPAIR</td>\n",
       "      <td>MEH</td>\n",
       "      <td>MEH</td>\n",
       "      <td>MEH</td>\n",
       "      <td>DESPAIR</td>\n",
       "      <td>DESPAIR</td>\n",
       "      <td>DESPAIR</td>\n",
       "      <td>DESPAIR</td>\n",
       "      <td>DESPAIR</td>\n",
       "      <td>MEH</td>\n",
       "    </tr>\n",
       "  </tbody>\n",
       "</table>\n",
       "<p>5 rows × 103 columns</p>\n",
       "</div>"
      ],
      "text/plain": [
       "     Q6 | 100 Grand Bar  \\\n",
       "437                 MEH   \n",
       "68                  JOY   \n",
       "448                 JOY   \n",
       "504                 NaN   \n",
       "2065                MEH   \n",
       "\n",
       "     Q6 | Anonymous brown globs that come in black and orange wrappers\\t(a.k.a. Mary Janes)  \\\n",
       "437                                                 MEH                                       \n",
       "68                                              DESPAIR                                       \n",
       "448                                             DESPAIR                                       \n",
       "504                                                 NaN                                       \n",
       "2065                                            DESPAIR                                       \n",
       "\n",
       "     Q6 | Any full-sized candy bar Q6 | Black Jacks Q6 | Bonkers (the candy)  \\\n",
       "437                            JOY          DESPAIR                  DESPAIR   \n",
       "68                             JOY              MEH                      MEH   \n",
       "448                            JOY          DESPAIR                  DESPAIR   \n",
       "504                            NaN              NaN                      NaN   \n",
       "2065                           JOY          DESPAIR                  DESPAIR   \n",
       "\n",
       "     Q6 | Bonkers (the board game) Q6 | Bottle Caps Q6 | Box'o'Raisins  \\\n",
       "437                            MEH              MEH            DESPAIR   \n",
       "68                             MEH              JOY            DESPAIR   \n",
       "448                        DESPAIR              JOY                MEH   \n",
       "504                            NaN              NaN                NaN   \n",
       "2065                       DESPAIR          DESPAIR                MEH   \n",
       "\n",
       "     Q6 | Broken glow stick Q6 | Butterfinger  ... Q6 | Three Musketeers  \\\n",
       "437                 DESPAIR               JOY  ...                   MEH   \n",
       "68                  DESPAIR               JOY  ...                   JOY   \n",
       "448                 DESPAIR               JOY  ...                   JOY   \n",
       "504                     NaN               NaN  ...                   NaN   \n",
       "2065                DESPAIR               MEH  ...               DESPAIR   \n",
       "\n",
       "     Q6 | Tolberone something or other Q6 | Trail Mix Q6 | Twix  \\\n",
       "437                                JOY        DESPAIR       MEH   \n",
       "68                                 MEH            MEH       MEH   \n",
       "448                                JOY            JOY       JOY   \n",
       "504                                NaN            NaN       NaN   \n",
       "2065                               MEH            MEH       MEH   \n",
       "\n",
       "     Q6 | Vials of pure high fructose corn syrup, for main-lining into your vein  \\\n",
       "437                                                 MEH                            \n",
       "68                                              DESPAIR                            \n",
       "448                                             DESPAIR                            \n",
       "504                                                 NaN                            \n",
       "2065                                            DESPAIR                            \n",
       "\n",
       "     Q6 | Vicodin Q6 | Whatchamacallit Bars Q6 | White Bread  \\\n",
       "437           JOY                       MEH          DESPAIR   \n",
       "68            JOY                       JOY          DESPAIR   \n",
       "448           JOY                   DESPAIR          DESPAIR   \n",
       "504           NaN                       NaN              NaN   \n",
       "2065      DESPAIR                   DESPAIR          DESPAIR   \n",
       "\n",
       "     Q6 | Whole Wheat anything Q6 | York Peppermint Patties  \n",
       "437                        MEH                          JOY  \n",
       "68                     DESPAIR                          MEH  \n",
       "448                        MEH                          JOY  \n",
       "504                        NaN                          NaN  \n",
       "2065                   DESPAIR                          MEH  \n",
       "\n",
       "[5 rows x 103 columns]"
      ]
     },
     "execution_count": 58,
     "metadata": {},
     "output_type": "execute_result"
    }
   ],
   "source": [
    "# show sample of dataframe\n",
    "\n",
    "candy.sample(5)"
   ]
  },
  {
   "cell_type": "code",
   "execution_count": 59,
   "id": "f43332bb",
   "metadata": {},
   "outputs": [
    {
     "data": {
      "text/plain": [
       "(2460, 103)"
      ]
     },
     "execution_count": 59,
     "metadata": {},
     "output_type": "execute_result"
    }
   ],
   "source": [
    "# see dimensions \n",
    "\n",
    "candy.shape"
   ]
  },
  {
   "cell_type": "code",
   "execution_count": 60,
   "id": "16f30ad2",
   "metadata": {},
   "outputs": [
    {
     "data": {
      "text/plain": [
       "Q6 | 100 Grand Bar                                                                        747\n",
       "Q6 | Anonymous brown globs that come in black and orange wrappers\\t(a.k.a. Mary Janes)    734\n",
       "Q6 | Any full-sized candy bar                                                             672\n",
       "Q6 | Black Jacks                                                                          958\n",
       "Q6 | Bonkers (the candy)                                                                  992\n",
       "                                                                                         ... \n",
       "Q6 | Vicodin                                                                              789\n",
       "Q6 | Whatchamacallit Bars                                                                 823\n",
       "Q6 | White Bread                                                                          757\n",
       "Q6 | Whole Wheat anything                                                                 747\n",
       "Q6 | York Peppermint Patties                                                              705\n",
       "Length: 103, dtype: int64"
      ]
     },
     "execution_count": 60,
     "metadata": {},
     "output_type": "execute_result"
    }
   ],
   "source": [
    "# show how many nan value in each column\n",
    "\n",
    "candy.isna().sum()"
   ]
  },
  {
   "cell_type": "markdown",
   "id": "f3b23b8a",
   "metadata": {},
   "source": [
    "**Interpretation:** We have some empty values that we need to replace with something else. Also, we want to change the names of some columns to make things clearer and avoid confusion."
   ]
  },
  {
   "cell_type": "code",
   "execution_count": 61,
   "id": "e153d098",
   "metadata": {},
   "outputs": [],
   "source": [
    "# fill nan value \n",
    "\n",
    "candy.fillna(\"unknown\", inplace = True)"
   ]
  },
  {
   "cell_type": "code",
   "execution_count": 62,
   "id": "a709b668",
   "metadata": {},
   "outputs": [],
   "source": [
    "# handle candy columns name\n",
    "\n",
    "# 1- create  dictionary key is old name and value is new name of each column\n",
    "names = {}\n",
    "\n",
    "# 2- loop over columns to fixed name and store old and new name in names\n",
    "for col in candy.columns:\n",
    "    names[col] = col.strip(\"Q6 | \")\n",
    "    \n",
    "# 3- rename columns\n",
    "candy.rename(columns = names, inplace= True)"
   ]
  },
  {
   "cell_type": "code",
   "execution_count": 63,
   "id": "53d24696",
   "metadata": {},
   "outputs": [
    {
     "data": {
      "text/html": [
       "<div>\n",
       "<style scoped>\n",
       "    .dataframe tbody tr th:only-of-type {\n",
       "        vertical-align: middle;\n",
       "    }\n",
       "\n",
       "    .dataframe tbody tr th {\n",
       "        vertical-align: top;\n",
       "    }\n",
       "\n",
       "    .dataframe thead th {\n",
       "        text-align: right;\n",
       "    }\n",
       "</style>\n",
       "<table border=\"1\" class=\"dataframe\">\n",
       "  <thead>\n",
       "    <tr style=\"text-align: right;\">\n",
       "      <th></th>\n",
       "      <th>100 Grand Bar</th>\n",
       "      <th>Anonymous brown globs that come in black and orange wrappers\\t(a.k.a. Mary Janes)</th>\n",
       "      <th>Any full-sized candy bar</th>\n",
       "      <th>Black Jacks</th>\n",
       "      <th>Bonkers (the candy)</th>\n",
       "      <th>Bonkers (the board game)</th>\n",
       "      <th>Bottle Caps</th>\n",
       "      <th>Box'o'Raisins</th>\n",
       "      <th>Broken glow stick</th>\n",
       "      <th>Butterfinger</th>\n",
       "      <th>...</th>\n",
       "      <th>Three Musketeers</th>\n",
       "      <th>Tolberone something or other</th>\n",
       "      <th>Trail Mix</th>\n",
       "      <th>Twix</th>\n",
       "      <th>Vials of pure high fructose corn syrup, for main-lining into your vein</th>\n",
       "      <th>Vicodin</th>\n",
       "      <th>Whatchamacallit Bars</th>\n",
       "      <th>White Bread</th>\n",
       "      <th>Whole Wheat anything</th>\n",
       "      <th>York Peppermint Patties</th>\n",
       "    </tr>\n",
       "  </thead>\n",
       "  <tbody>\n",
       "    <tr>\n",
       "      <th>795</th>\n",
       "      <td>unknown</td>\n",
       "      <td>unknown</td>\n",
       "      <td>unknown</td>\n",
       "      <td>unknown</td>\n",
       "      <td>unknown</td>\n",
       "      <td>unknown</td>\n",
       "      <td>unknown</td>\n",
       "      <td>unknown</td>\n",
       "      <td>unknown</td>\n",
       "      <td>unknown</td>\n",
       "      <td>...</td>\n",
       "      <td>unknown</td>\n",
       "      <td>unknown</td>\n",
       "      <td>unknown</td>\n",
       "      <td>unknown</td>\n",
       "      <td>unknown</td>\n",
       "      <td>unknown</td>\n",
       "      <td>unknown</td>\n",
       "      <td>unknown</td>\n",
       "      <td>unknown</td>\n",
       "      <td>unknown</td>\n",
       "    </tr>\n",
       "    <tr>\n",
       "      <th>249</th>\n",
       "      <td>MEH</td>\n",
       "      <td>MEH</td>\n",
       "      <td>JOY</td>\n",
       "      <td>DESPAIR</td>\n",
       "      <td>DESPAIR</td>\n",
       "      <td>MEH</td>\n",
       "      <td>MEH</td>\n",
       "      <td>DESPAIR</td>\n",
       "      <td>DESPAIR</td>\n",
       "      <td>JOY</td>\n",
       "      <td>...</td>\n",
       "      <td>JOY</td>\n",
       "      <td>JOY</td>\n",
       "      <td>DESPAIR</td>\n",
       "      <td>JOY</td>\n",
       "      <td>DESPAIR</td>\n",
       "      <td>DESPAIR</td>\n",
       "      <td>DESPAIR</td>\n",
       "      <td>DESPAIR</td>\n",
       "      <td>DESPAIR</td>\n",
       "      <td>DESPAIR</td>\n",
       "    </tr>\n",
       "    <tr>\n",
       "      <th>999</th>\n",
       "      <td>MEH</td>\n",
       "      <td>DESPAIR</td>\n",
       "      <td>MEH</td>\n",
       "      <td>MEH</td>\n",
       "      <td>MEH</td>\n",
       "      <td>MEH</td>\n",
       "      <td>MEH</td>\n",
       "      <td>MEH</td>\n",
       "      <td>MEH</td>\n",
       "      <td>JOY</td>\n",
       "      <td>...</td>\n",
       "      <td>JOY</td>\n",
       "      <td>MEH</td>\n",
       "      <td>MEH</td>\n",
       "      <td>JOY</td>\n",
       "      <td>MEH</td>\n",
       "      <td>JOY</td>\n",
       "      <td>JOY</td>\n",
       "      <td>MEH</td>\n",
       "      <td>MEH</td>\n",
       "      <td>JOY</td>\n",
       "    </tr>\n",
       "  </tbody>\n",
       "</table>\n",
       "<p>3 rows × 103 columns</p>\n",
       "</div>"
      ],
      "text/plain": [
       "    100 Grand Bar  \\\n",
       "795       unknown   \n",
       "249           MEH   \n",
       "999           MEH   \n",
       "\n",
       "    Anonymous brown globs that come in black and orange wrappers\\t(a.k.a. Mary Janes)  \\\n",
       "795                                            unknown                                  \n",
       "249                                                MEH                                  \n",
       "999                                            DESPAIR                                  \n",
       "\n",
       "    Any full-sized candy bar Black Jacks Bonkers (the candy)  \\\n",
       "795                  unknown     unknown             unknown   \n",
       "249                      JOY     DESPAIR             DESPAIR   \n",
       "999                      MEH         MEH                 MEH   \n",
       "\n",
       "    Bonkers (the board game) Bottle Caps Box'o'Raisins Broken glow stick  \\\n",
       "795                  unknown     unknown       unknown           unknown   \n",
       "249                      MEH         MEH       DESPAIR           DESPAIR   \n",
       "999                      MEH         MEH           MEH               MEH   \n",
       "\n",
       "    Butterfinger  ... Three Musketeers Tolberone something or other Trail Mix  \\\n",
       "795      unknown  ...          unknown                      unknown   unknown   \n",
       "249          JOY  ...              JOY                          JOY   DESPAIR   \n",
       "999          JOY  ...              JOY                          MEH       MEH   \n",
       "\n",
       "        Twix  \\\n",
       "795  unknown   \n",
       "249      JOY   \n",
       "999      JOY   \n",
       "\n",
       "    Vials of pure high fructose corn syrup, for main-lining into your vein  \\\n",
       "795                                            unknown                       \n",
       "249                                            DESPAIR                       \n",
       "999                                                MEH                       \n",
       "\n",
       "     Vicodin Whatchamacallit Bars White Bread Whole Wheat anything  \\\n",
       "795  unknown              unknown     unknown              unknown   \n",
       "249  DESPAIR              DESPAIR     DESPAIR              DESPAIR   \n",
       "999      JOY                  JOY         MEH                  MEH   \n",
       "\n",
       "    York Peppermint Patties  \n",
       "795                 unknown  \n",
       "249                 DESPAIR  \n",
       "999                     JOY  \n",
       "\n",
       "[3 rows x 103 columns]"
      ]
     },
     "execution_count": 63,
     "metadata": {},
     "output_type": "execute_result"
    }
   ],
   "source": [
    "candy.sample(3)"
   ]
  },
  {
   "cell_type": "code",
   "execution_count": 64,
   "id": "4d65e76e",
   "metadata": {},
   "outputs": [],
   "source": [
    "# handle candy columns\n",
    "\n",
    "def visualizing(reversed):\n",
    "    # 1- create create dictionary key is Question and value is number of ones\n",
    "    candy_score = {}\n",
    "\n",
    "    # 2- loop over columns to get number of ones of each column\n",
    "    for column in candy.columns:\n",
    "        candy_score[column] = len(candy[candy[column] == \"JOY\"])\n",
    "\n",
    "    # 3- sorte candy_score by values\n",
    "    candy_score = dict(sorted(candy_score.items(), key = lambda item : item[1] ,reverse = reversed))\n",
    "\n",
    "    # 4- get all keys in candy_score\n",
    "    keys = list(candy_score.keys())\n",
    "\n",
    "    # 5- get all values in candy_score\n",
    "    values = list(candy_score.values())\n",
    "    \n",
    "    # 6- visualizing columns\n",
    "    sns.barplot(y = keys[:5], x = values[:5])\n",
    "    plt.title(\"Candy distirbution\")\n",
    "    plt.xlabel(\"Count\"); plt.ylabel(\"Candy\")\n",
    "    plt.xticks(rotation = 55)\n",
    "    plt.show()"
   ]
  },
  {
   "cell_type": "code",
   "execution_count": 65,
   "id": "c7da41a5",
   "metadata": {},
   "outputs": [
    {
     "data": {
      "image/png": "[encoded data removed]",
      "text/plain": [
       "<Figure size 640x480 with 1 Axes>"
      ]
     },
     "metadata": {},
     "output_type": "display_data"
    }
   ],
   "source": [
    "# Top five favorite candy\n",
    "\n",
    "visualizing(True)"
   ]
  },
  {
   "cell_type": "code",
   "execution_count": 66,
   "id": "1a9ec578",
   "metadata": {},
   "outputs": [
    {
     "data": {
      "image/png": "[encoded data removed]",
      "text/plain": [
       "<Figure size 640x480 with 1 Axes>"
      ]
     },
     "metadata": {},
     "output_type": "display_data"
    }
   ],
   "source": [
    "# First five hated candy\n",
    "\n",
    "visualizing(False)"
   ]
  },
  {
   "cell_type": "code",
   "execution_count": 67,
   "id": "d0d39b35",
   "metadata": {},
   "outputs": [
    {
     "data": {
      "image/png": "[encoded data removed]",
      "text/plain": [
       "<Figure size 1500x1000 with 4 Axes>"
      ]
     },
     "metadata": {},
     "output_type": "display_data"
    }
   ],
   "source": [
    "# create list of columns\n",
    "catColumns = [\"going out\", \"dress\", \"day\", \"media\"]\n",
    "\n",
    "# 1- set figure size\n",
    "plt.figure(figsize=(15, 10))\n",
    "\n",
    "# 2- loop over objcolumns list to plot columns\n",
    "for index, col in enumerate(catColumns):\n",
    "    plt.subplot((len(catColumns) + 1) // 2, 2, index + 1)\n",
    "    graph = sns.countplot(x = \"gender\", data = candyData, hue = col)\n",
    "    for container in graph.containers:\n",
    "        graph.bar_label(container)\n",
    "        \n",
    "    plt.title(col) # set title to each plot\n",
    "    plt.xticks(rotation = 35)\n",
    "    \n",
    "# 3- set layout between two plots\n",
    "plt.tight_layout(pad = 2)\n",
    "plt.show()"
   ]
  },
  {
   "cell_type": "markdown",
   "id": "47251842",
   "metadata": {},
   "source": [
    "**Conclusion:** Many people are staying home these days. Among those surveyed, more men participated. Most people who took part in the survey were between 35 and 50 years old. The majority of respondents were from the USA and Canada. White and gold attire is a popular choice. Friday is the preferred day for most people. When it comes to websites, science-related ones are visited the most. Full-sized candy bars are the favorite, while broken glow sticks are the least liked."
   ]
  },
  {
   "cell_type": "markdown",
   "id": "e300cf77",
   "metadata": {},
   "source": [
    "**Summary:** I wanted to tidy up the data by fixing any missing information or copies. While doing that, I found out which candy is liked the most and least, the favorite day, people's opinions on a dress and the preferred social media site. The survey was mostly done by males with many staying indoors. On average, the participants were around 42 years old and most of them were from the United States."
   ]
  }
 ],
 "metadata": {
  "kernelspec": {
   "display_name": "Python 3 (ipykernel)",
   "language": "python",
   "name": "python3"
  },
  "language_info": {
   "codemirror_mode": {
    "name": "ipython",
    "version": 3
   },
   "file_extension": ".py",
   "mimetype": "text/x-python",
   "name": "python",
   "nbconvert_exporter": "python",
   "pygments_lexer": "ipython3",
   "version": "3.10.9"
  }
 },
 "nbformat": 4,
 "nbformat_minor": 5
}
